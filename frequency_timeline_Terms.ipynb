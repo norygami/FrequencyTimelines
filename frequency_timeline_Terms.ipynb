{
 "cells": [
  {
   "cell_type": "code",
   "execution_count": 1,
   "metadata": {},
   "outputs": [],
   "source": [
    "import pandas as pd\n",
    "import plotly.express as px\n",
    "from collections import Counter\n",
    "import os\n",
    "import re"
   ]
  },
  {
   "cell_type": "code",
   "execution_count": 9,
   "metadata": {},
   "outputs": [
    {
     "name": "stdout",
     "output_type": "stream",
     "text": [
      "Visualization for term 'artensterben' saved to artensterben.html\n",
      "Visualization for term 'bienensterben' saved to bienensterben.html\n",
      "Visualization for term 'insektensterben' saved to insektensterben.html\n",
      "Visualization for term 'höfesterben' saved to höfesterben.html\n",
      "Visualization for term 'waldsterben' saved to waldsterben.html\n",
      "Visualization for term 'fischsterben' saved to fischsterben.html\n",
      "Visualization for term 'baumsterben' saved to baumsterben.html\n"
     ]
    }
   ],
   "source": [
    "cwd = os.getcwd()\n",
    "#abspath = os.path.abspath(\"\")\n",
    "\n",
    "# Path to the directory containing CSV files\n",
    "directory_path = cwd + '\\\\timeline\\\\in\\\\'\n",
    "\n",
    "# List of specific terms you want to visualize\n",
    "specific_terms = ['artensterben', 'bienensterben', 'insektensterben', 'höfesterben', 'waldsterben', 'fischsterben', 'baumsterben']\n",
    "\n",
    "# Function to preprocess text\n",
    "def preprocess_text(text):\n",
    "    text = re.sub(r'\\W', ' ', str(text).lower())\n",
    "    text = re.sub(r'\\s+', ' ', text)\n",
    "    return text\n",
    "\n",
    "# Function to calculate frequencies per million words\n",
    "def calculate_frequencies(df, specific_terms):\n",
    "    df['clean_text'] = df['text_content'].apply(preprocess_text)\n",
    "    df['year'] = pd.to_datetime(df['text_date']).dt.year\n",
    "    term_frequencies = {}\n",
    "    for year in df['year'].unique():\n",
    "        year_text = ' '.join(df[df['year'] == year]['clean_text'])\n",
    "        word_counts = Counter(year_text.split())\n",
    "        total_words = sum(word_counts.values())\n",
    "        frequencies_per_million = {term: (word_counts.get(term, 0) / total_words) * 1e6 for term in specific_terms}\n",
    "        term_frequencies[year] = frequencies_per_million\n",
    "    return term_frequencies\n",
    "\n",
    "# Function to prepare data for Plotly\n",
    "def prepare_data_for_plotly(term_frequencies, source_file):\n",
    "    plot_data = []\n",
    "    for year, frequencies in term_frequencies.items():\n",
    "        for term, frequency in frequencies.items():\n",
    "            plot_data.append({'year': year, 'term': term, 'frequency_per_million': frequency, 'source': os.path.splitext(source_file)[0]})\n",
    "    return pd.DataFrame(plot_data)\n",
    "\n",
    "# Function to create and save visualizations for each term\n",
    "def create_and_save_visualization_per_term(all_data, terms):\n",
    "    for term in terms:\n",
    "        df_filtered = all_data[all_data['term'] == term].copy()\n",
    "        fig = px.line(df_filtered, x='year', y='frequency_per_million', color='source',\n",
    "                      line_group='source', markers=True,\n",
    "                      title=f'Frequency of \"{term}\" Per Million Words Over Years Across Sources',\n",
    "                      labels={'frequency_per_million': 'Frequency per Million Words', 'year': 'Year', 'source': 'Text Source'})\n",
    "        fig.update_layout(xaxis_title='Year', yaxis_title='Frequency per Million Words', xaxis=dict(tickmode='linear'))\n",
    "        output_filename = f'{term}.html'  # Save each term's chart as an HTML file\n",
    "        fig.write_html(file=cwd + '\\\\timeline\\\\out\\\\' + output_filename, include_plotlyjs=True)\n",
    "        print(f\"Visualization for term '{term}' saved to {output_filename}\")\n",
    "\n",
    "# Initialize an empty DataFrame to hold all data\n",
    "all_data = pd.DataFrame()\n",
    "\n",
    "# Loop through each CSV file in the directory\n",
    "for file_name in os.listdir(directory_path):\n",
    "    if file_name.endswith('.csv'):\n",
    "        file_path = os.path.join(directory_path, file_name)\n",
    "        df = pd.read_csv(file_path, delimiter='\\t')\n",
    "        term_frequencies = calculate_frequencies(df, specific_terms)\n",
    "        plot_df = prepare_data_for_plotly(term_frequencies, source_file=file_name)\n",
    "        all_data = pd.concat([all_data, plot_df], ignore_index=True)\n",
    "\n",
    "\n",
    "all_data['year'] = all_data['year'].astype(int)\n",
    "all_data = all_data.sort_values(by=['year', 'source', 'term'])\n",
    "\n",
    "# Create and save a visualization for each term\n",
    "create_and_save_visualization_per_term(all_data, specific_terms)"
   ]
  }
 ],
 "metadata": {
  "kernelspec": {
   "display_name": "Python 3",
   "language": "python",
   "name": "python3"
  },
  "language_info": {
   "codemirror_mode": {
    "name": "ipython",
    "version": 3
   },
   "file_extension": ".py",
   "mimetype": "text/x-python",
   "name": "python",
   "nbconvert_exporter": "python",
   "pygments_lexer": "ipython3",
   "version": "3.11.8"
  }
 },
 "nbformat": 4,
 "nbformat_minor": 2
}
