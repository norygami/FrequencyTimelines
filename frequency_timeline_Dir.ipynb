{
 "cells": [
  {
   "cell_type": "code",
   "execution_count": 3,
   "metadata": {},
   "outputs": [],
   "source": [
    "# Import necessary libraries\n",
    "import os\n",
    "import pandas as pd\n",
    "import plotly.express as px\n",
    "from collections import Counter\n",
    "from datetime import datetime\n",
    "import re"
   ]
  },
  {
   "cell_type": "code",
   "execution_count": 9,
   "metadata": {},
   "outputs": [
    {
     "name": "stdout",
     "output_type": "stream",
     "text": [
      "Visualization saved to e:\\Workspaces\\KoDi\\timeline\\out\\BILD.html\n",
      "Visualization saved to e:\\Workspaces\\KoDi\\timeline\\out\\FAZ.html\n",
      "Visualization saved to e:\\Workspaces\\KoDi\\timeline\\out\\PP.html\n",
      "Visualization saved to e:\\Workspaces\\KoDi\\timeline\\out\\SPIEGEL.html\n",
      "Visualization saved to e:\\Workspaces\\KoDi\\timeline\\out\\SZ.html\n",
      "Visualization saved to e:\\Workspaces\\KoDi\\timeline\\out\\TZ.html\n",
      "Visualization saved to e:\\Workspaces\\KoDi\\timeline\\out\\ZEIT.html\n",
      "Visualization saved to e:\\Workspaces\\KoDi\\timeline\\out\\ZEIT_Online.html\n"
     ]
    }
   ],
   "source": [
    "cwd = os.getcwd()\n",
    "#abspath = os.path.abspath(\"\")\n",
    "\n",
    "# Path to the directory containing CSV files\n",
    "directory_path = cwd + '\\\\timeline\\\\in\\\\'\n",
    "outputDir = cwd + '\\\\timeline\\\\out\\\\'\n",
    "\n",
    "# List of specific terms you want to visualize\n",
    "specific_terms = ['artensterben', 'bienensterben', 'insektensterben', 'höfesterben', 'waldsterben', 'fischsterben', 'baumsterben']\n",
    "\n",
    "# Function to preprocess text\n",
    "def preprocess_text(text):\n",
    "    text = re.sub(r'\\W', ' ', str(text).lower())\n",
    "    text = re.sub(r'\\s+', ' ', text)\n",
    "    return text\n",
    "\n",
    "# Function to calculate frequencies per million words\n",
    "def calculate_frequencies(df, specific_terms):\n",
    "    df['clean_text'] = df['text_content'].apply(preprocess_text)\n",
    "    df['year'] = pd.to_datetime(df['text_date']).dt.year\n",
    "    term_frequencies = {}\n",
    "    for year in df['year'].unique():\n",
    "        year_text = ' '.join(df[df['year'] == year]['clean_text'])\n",
    "        word_counts = Counter(year_text.split())\n",
    "        total_words = sum(word_counts.values())\n",
    "        frequencies_per_million = {term: (word_counts.get(term, 0) / total_words) * 1e6 for term in specific_terms}\n",
    "        if frequencies_per_million:  # Only include years where terms are mentioned\n",
    "            term_frequencies[year] = frequencies_per_million\n",
    "    return term_frequencies\n",
    "\n",
    "# Function to prepare data for Plotly\n",
    "def prepare_data_for_plotly(term_frequencies, source_file):\n",
    "    plot_data = []\n",
    "    for year, frequencies in term_frequencies.items():\n",
    "        for term, frequency in frequencies.items():\n",
    "            plot_data.append({'year': year, 'term': term, 'frequency_per_million': frequency, 'source': source_file})\n",
    "    return pd.DataFrame(plot_data)\n",
    "\n",
    "'''\n",
    "# Function to save frequencies to individual files\n",
    "def save_frequencies_to_file(plot_df, output_directory, source_file):\n",
    "    base_filename = os.path.splitext(source_file)[0]  # Removes the extension\n",
    "    output_filename = f\"{base_filename}_frequencies.csv\"\n",
    "    output_path = os.path.join(output_directory, output_filename)\n",
    "    plot_df.to_csv(output_path, index=False)\n",
    "    print(f\"Saved frequencies to {output_path}\")\n",
    "'''\n",
    "\n",
    "def create_and_save_visualization(plot_df, source_file):\n",
    "    fig = px.line(plot_df, x='year', y='frequency_per_million', color='term',\n",
    "                  line_group='term', markers=True,\n",
    "                  title=f'Term Frequencies Per Million Words Over Years ({source_file})',\n",
    "                  labels={'frequency_per_million': 'Frequency per Million Words', 'year': 'Year'})\n",
    "    fig.update_layout(xaxis_title='Year', yaxis_title='Frequency per Million Words', xaxis=dict(tickmode='linear'))\n",
    "    # Save figure to HTML file\n",
    "    output_filename = os.path.splitext(source_file)[0] + '.html'  # Change extension to .html\n",
    "    fig.write_html(file=outputDir + output_filename, include_plotlyjs=True)\n",
    "    print(f\"Visualization saved to {outputDir + output_filename}\")\n",
    "\n",
    "# Loop through each CSV file in the directory\n",
    "for file_name in os.listdir(directory_path):\n",
    "    if file_name.endswith('.csv'):\n",
    "        file_path = os.path.join(directory_path, file_name)\n",
    "        df = pd.read_csv(file_path, delimiter='\\t')\n",
    "        term_frequencies = calculate_frequencies(df, specific_terms)\n",
    "        plot_df = prepare_data_for_plotly(term_frequencies, source_file=file_name)\n",
    "        plot_df['year'] = plot_df['year'].astype(int)\n",
    "        plot_df = plot_df.sort_values(by=['year'])\n",
    "        # Create and save visualization for each source text\n",
    "        create_and_save_visualization(plot_df, file_name)"
   ]
  }
 ],
 "metadata": {
  "kernelspec": {
   "display_name": "Python 3",
   "language": "python",
   "name": "python3"
  },
  "language_info": {
   "codemirror_mode": {
    "name": "ipython",
    "version": 3
   },
   "file_extension": ".py",
   "mimetype": "text/x-python",
   "name": "python",
   "nbconvert_exporter": "python",
   "pygments_lexer": "ipython3",
   "version": "3.11.8"
  }
 },
 "nbformat": 4,
 "nbformat_minor": 2
}
